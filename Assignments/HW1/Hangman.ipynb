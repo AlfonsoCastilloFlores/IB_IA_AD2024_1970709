{
  "nbformat": 4,
  "nbformat_minor": 0,
  "metadata": {
    "colab": {
      "provenance": [],
      "authorship_tag": "ABX9TyMhKfeuJQUEEapS4MR6NylJ",
      "include_colab_link": true
    },
    "kernelspec": {
      "name": "python3",
      "display_name": "Python 3"
    },
    "language_info": {
      "name": "python"
    }
  },
  "cells": [
    {
      "cell_type": "markdown",
      "metadata": {
        "id": "view-in-github",
        "colab_type": "text"
      },
      "source": [
        "<a href=\"https://colab.research.google.com/github/AlfonsoCastilloFlores/IB_IA_AD2024_1970709/blob/main/Hangman.ipynb\" target=\"_parent\"><img src=\"https://colab.research.google.com/assets/colab-badge.svg\" alt=\"Open In Colab\"/></a>"
      ]
    },
    {
      "cell_type": "code",
      "execution_count": 4,
      "metadata": {
        "colab": {
          "base_uri": "https://localhost:8080/"
        },
        "id": "rQ0hEgH6FGkA",
        "outputId": "6f8cd518-b826-495a-9fd7-38b2a8cedb7e"
      },
      "outputs": [
        {
          "output_type": "stream",
          "name": "stdout",
          "text": [
            "La palabra tiene 9 letras.\n",
            "_ _ _ _ _ _ _ _ _\n",
            "Pon una letra: e\n",
            "La letra 'e' no es.\n",
            "Quedan 7 intentos.\n",
            "_ _ _ _ _ _ _ _ _\n",
            "Pon una letra: d\n",
            "La letra 'd' no es.\n",
            "Quedan 6 intentos.\n",
            "_ _ _ _ _ _ _ _ _\n",
            "Pon una letra: l\n",
            "La letra 'l' no es.\n",
            "Quedan 5 intentos.\n",
            "_ _ _ _ _ _ _ _ _\n",
            "Pon una letra: o\n",
            "La letra 'o' no es.\n",
            "Quedan 4 intentos.\n",
            "_ _ _ _ _ _ _ _ _\n",
            "Pon una letra: p\n",
            "La letra 'p' no es.\n",
            "Quedan 3 intentos.\n",
            "_ _ _ _ _ _ _ _ _\n",
            "Pon una letra: k\n",
            "La letra 'k' está en la palabra.\n",
            "_ _ _ _ _ _ _ k _\n",
            "Pon una letra: s\n",
            "La letra 's' está en la palabra.\n",
            "s _ _ _ _ _ _ k s\n",
            "Pon una letra: t\n",
            "La letra 't' está en la palabra.\n",
            "s t _ _ _ _ _ k s\n",
            "Pon una letra: a\n",
            "La letra 'a' está en la palabra.\n",
            "s t a _ _ _ _ k s\n",
            "Pon una letra: r\n",
            "La letra 'r' está en la palabra.\n",
            "s t a r _ _ _ k s\n",
            "Pon una letra: b\n",
            "La letra 'b' está en la palabra.\n",
            "s t a r b _ _ k s\n",
            "Pon una letra: u\n",
            "La letra 'u' está en la palabra.\n",
            "s t a r b u _ k s\n",
            "Pon una letra: c\n",
            "La letra 'c' está en la palabra.\n",
            "Completaste la palabra 'starbucks'.\n"
          ]
        }
      ],
      "source": [
        "import random\n",
        "\n",
        "random_list= [\"pokemon\",\"iphone\",\"tequila\",\"soccer\",\"batman\",\"beach\",\"starbucks\"]\n",
        "\n",
        "def get_random_word(random_list):\n",
        "    return random.choice(random_list)\n",
        "\n",
        "def display_word(word, guessed_letters):\n",
        "    display = [letter if letter in guessed_letters else '_' for letter in word]\n",
        "    return ' '.join(display)\n",
        "\n",
        "# Function to run the Hangman game\n",
        "def play_hangman():\n",
        "    word = get_random_word(random_list)\n",
        "    guessed_letters = []  # To store letters that have been guessed\n",
        "    attempts = 8  # Number of attempts the player has\n",
        "    guessed = False  # Whether the word has been guessed\n",
        "\n",
        "    print(f\"La palabra tiene {len(word)} letras.\")\n",
        "\n",
        "    while attempts > 0 and not guessed:\n",
        "        print(display_word(word, guessed_letters))\n",
        "        guess = input(\"Pon una letra: \").lower()\n",
        "\n",
        "        if len(guess) == 1 and guess.isalpha():\n",
        "            if guess in guessed_letters:\n",
        "                print(f\"Le atinaste a la letra '{guess}'.\")\n",
        "            elif guess not in word:\n",
        "                print(f\"La letra '{guess}' no es.\")\n",
        "                attempts -= 1\n",
        "                print(f\"Quedan {attempts} intentos.\")\n",
        "            else:\n",
        "                print(f\"La letra '{guess}' está en la palabra.\")\n",
        "                guessed_letters.append(guess)\n",
        "                if all(letter in guessed_letters for letter in word):\n",
        "                    guessed = True\n",
        "        else:\n",
        "            print(\"Por favor, ingresa una sola letra.\")\n",
        "\n",
        "    if guessed:\n",
        "        print(f\"Completaste la palabra '{word}'.\")\n",
        "    else:\n",
        "        print(f\"XXX, La palabra era '{word}'.\")\n",
        "\n",
        "if __name__ == \"__main__\":\n",
        "    play_hangman()\n"
      ]
    }
  ]
}
