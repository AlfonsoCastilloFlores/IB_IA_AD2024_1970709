{
  "nbformat": 4,
  "nbformat_minor": 0,
  "metadata": {
    "colab": {
      "provenance": [],
      "authorship_tag": "ABX9TyMkAvL/dzOIIdc4W3F1peuW"
    },
    "kernelspec": {
      "name": "python3",
      "display_name": "Python 3"
    },
    "language_info": {
      "name": "python"
    }
  },
  "cells": [
    {
      "cell_type": "code",
      "execution_count": 2,
      "metadata": {
        "colab": {
          "base_uri": "https://localhost:8080/"
        },
        "id": "MrZ1XWflGtiU",
        "outputId": "e9460f70-bb1b-478a-c466-ba352d137089"
      },
      "outputs": [
        {
          "output_type": "stream",
          "name": "stdout",
          "text": [
            "Pense en un número entre 1 y 100. Cual sera?\n",
            "Cual piensas?: 78\n",
            "Te pasaste!\n",
            "Cual piensas?: 56\n",
            "Te pasaste!\n",
            "Cual piensas?: 4\n",
            "Estas por debajo!\n",
            "Cual piensas?: 40\n",
            "Estas por debajo!\n",
            "Cual piensas?: 30\n",
            "Estas por debajo!\n",
            "Cual piensas?: 35\n",
            "Estas por debajo!\n",
            "Cual piensas?: 38\n",
            "Estas por debajo!\n",
            "Cual piensas?: 45\n",
            "Estas por debajo!\n",
            "Cual piensas?: 50\n",
            "Estas por debajo!\n",
            "Cual piensas?: 55\n",
            "Te pasaste!\n",
            "Cual piensas?: 53\n",
            "!!! Adivinaste el número 53 en 11 intentos.\n"
          ]
        }
      ],
      "source": [
        "import random\n",
        "\n",
        "def play_number_guessing_game():\n",
        "    target_number = random.randint(1, 100)\n",
        "    attempts = 0\n",
        "    guessed = False\n",
        "\n",
        "\n",
        "    print(\"Pense en un número entre 1 y 100. Cual sera?\")\n",
        "\n",
        "\n",
        "    while not guessed:\n",
        "        try:\n",
        "            guess = int(input(\"Cual piensas?: \"))\n",
        "            attempts += 1\n",
        "            if guess < 1 or guess > 100:\n",
        "                print(\"Escoge, un número entre 1 y 100.\")\n",
        "            elif guess < target_number:\n",
        "                print(\"Estas por debajo!\")\n",
        "            elif guess > target_number:\n",
        "                print(\"Te pasaste!\")\n",
        "            else:\n",
        "                guessed = True\n",
        "                print(f\"!!! Adivinaste el número {target_number} en {attempts} intentos.\")\n",
        "        except ValueError:\n",
        "            print(\"Por favor, introduce un número válido.\")\n",
        "\n",
        "\n",
        "if __name__ == \"__main__\":\n",
        "    play_number_guessing_game()\n"
      ]
    },
    {
      "cell_type": "code",
      "source": [],
      "metadata": {
        "id": "F78QrNVTGxM0"
      },
      "execution_count": null,
      "outputs": []
    }
  ]
}